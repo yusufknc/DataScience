{
 "cells": [
  {
   "cell_type": "markdown",
   "metadata": {
    "slideshow": {
     "slide_type": "slide"
    }
   },
   "source": [
    "# JupyterLab'i Etkin Kullanmak"
   ]
  },
  {
   "cell_type": "markdown",
   "metadata": {
    "slideshow": {
     "slide_type": "subslide"
    }
   },
   "source": [
    "# Kısayol Tuşları"
   ]
  },
  {
   "cell_type": "markdown",
   "metadata": {},
   "source": [
    "* Notebook verdiğimiz kısa yolları iki ayrı bileşen için ayrı ayrı algılar. Birisi hücreler için kullanacağımız kısa yol tuşları diğer hücrelerin dışında iken kullanacağımız kısayol tuşları. Örneğin hücre içinde bir şey kopyalayıp yapıştırmak istediğimizde bunu \"ctrl + c\", \"ctrl + v\" kombinasyonları ile yapabiliriz. Bu  işlemi hücre dışında hücrelere yönelik olarak yapmak istediğimizde \"c\" ve \"v\"duşlarına basmamız yeterli olacaktır. Dolayısıyla kısayol tuşlarını öğrenirken de buna göre öğrenmekte fayda var.\n",
    "\n",
    "* Yukarı aşağı oklar ile hücreler arasında gezinilir.\n",
    "\n",
    "* A: satırın üstüne boş satır ekler.\n",
    "\n",
    "* B: satırın altına boş satır ekler.\n",
    "\n",
    "* M: seçili hücreyi markdowna çevirir.\n",
    "\n",
    "* Y: seçili hücreeyi code hücresine çevirir.\n",
    "\n",
    "* D+D: iki defa D ye basıldığında üzerinde olunan hücre silinir.\n",
    "\n",
    "* Z: işlemi geri alır.\n",
    "\n",
    "* Shift + yön tuşları : birden fazla hücre seçmek için.\n",
    "\n",
    "* Shift + m: seçili hücreleri birleştirir.\n"
   ]
  },
  {
   "cell_type": "markdown",
   "metadata": {
    "slideshow": {
     "slide_type": "subslide"
    }
   },
   "source": [
    "# Markdown Özellikleri"
   ]
  },
  {
   "cell_type": "markdown",
   "metadata": {},
   "source": [
    "Notebook'un markdown özelliklerini kullanarak yazılan yazılar aşağıdaki bazı özellikler ile biçimlendirilebilir. \"Kodlar\" bölümünde kodlar ifade edilmektedir, \"Çıktısı\" bölümünde kodların çalıştırıldığındaki görüntüsü verilmektedir."
   ]
  },
  {
   "cell_type": "markdown",
   "metadata": {},
   "source": [
    "## Kodlar:"
   ]
  },
  {
   "cell_type": "markdown",
   "metadata": {},
   "source": [
    "<img src=\"img/markdown.png\" alt=\"drawing\" width=\"500\"/>"
   ]
  },
  {
   "cell_type": "markdown",
   "metadata": {},
   "source": [
    "## Çıktısı:"
   ]
  },
  {
   "cell_type": "markdown",
   "metadata": {},
   "source": [
    "* Normal bir yazı.\n",
    "\n",
    "* Bu **kalın yazıdır**\n",
    "\n",
    "* Bu _italik_ yazıdır.\n",
    "\n",
    "Listeleme:\n",
    "\n",
    "* Eleman1\n",
    "* Eleman2\n",
    " * Bu da alt eleman\n",
    " * Bu da ikinci alt eleman\n",
    "\n",
    "Numara ile Listeleme:\n",
    "\n",
    "1. Numaralı liste\n",
    "2. Numaralı liste\n",
    "\n",
    "\n",
    "* Link Eklemek: [tıkla](https://www.veribilimiokulu.com)\n",
    "\n",
    "* Kod ifade etmek için: `sum()`\n",
    "\n",
    "* Kod bloğu ya da girintili ifade için:\n",
    "\n",
    "```\n",
    "mean()\n",
    "\n",
    "```\n",
    "\n",
    "* Aynı işlemi 4 boşluk ile de ifade edebiliriz:\n",
    "\n",
    "    foo()\n",
    "\n"
   ]
  },
  {
   "cell_type": "markdown",
   "metadata": {},
   "source": [
    "# Variable Explorer Eklentisi"
   ]
  },
  {
   "cell_type": "markdown",
   "metadata": {},
   "source": [
    "<img src=\"img/early_demo.gif\" alt=\"drawing\" width=\"700\"/>"
   ]
  },
  {
   "cell_type": "markdown",
   "metadata": {},
   "source": [
    "* Notebooktan yuklemek için:\n",
    "\n",
    "!jupyter labextension install @lckr/jupyterlab_variableinspector\n",
    "\n",
    "* Console'dan yüklemek için:\n",
    "\n",
    "jupyter labextension install @lckr/jupyterlab_variableinspector\n",
    "\n",
    "Kaynak: https://github.com/lckr/jupyterlab-variableInspector"
   ]
  },
  {
   "cell_type": "markdown",
   "metadata": {
    "slideshow": {
     "slide_type": "subslide"
    }
   },
   "source": [
    "# İçindekiler / Index Oluşturmak"
   ]
  },
  {
   "cell_type": "markdown",
   "metadata": {},
   "source": [
    "<img src=\"img/toc.gif\" alt=\"drawing\" width=\"700\"/>"
   ]
  },
  {
   "cell_type": "markdown",
   "metadata": {},
   "source": [
    "1. Önce nodejs'in kurulması gerekiyor. Bunun için Terminalden aşağıdaki kod çalıştırılır:\n",
    "\n",
    "conda install nodejs\n",
    "\n",
    "2. Sonrasında yine terminalden:\n",
    "\n",
    "jupyter labextension install @jupyterlab/toc\n",
    "\n",
    "3. JupyterLab kapatıp tekrar açılır\n",
    "\n",
    "Kaynak:\n",
    "https://github.com/jupyterlab/jupyterlab-toc"
   ]
  },
  {
   "cell_type": "markdown",
   "metadata": {},
   "source": [
    "# Tıklanabilir İçindekiler Bölümü Oluşturmak\n"
   ]
  },
  {
   "cell_type": "markdown",
   "metadata": {},
   "source": [
    "<img src=\"img/index_1.png\" alt=\"drawing\" width=\"300\"/>"
   ]
  },
  {
   "cell_type": "markdown",
   "metadata": {},
   "source": [
    "Yukarıdaki görseldeki şekilde notebook içerisinde tıklanabilir bölüm başlıkları koyulabilir.\n",
    "\n",
    "2 aşamada hazırlanabilir. \n",
    "\n",
    "* İçindekiler bölümünün ve takip tag'lerinin oluşturulması\n",
    "* Takip tag'lerinin bölüm girişlerine yazılması"
   ]
  },
  {
   "cell_type": "markdown",
   "metadata": {},
   "source": [
    "##   1. İçindekiler Bölümünün ve Takip Tag'lerinin Oluşturulması"
   ]
  },
  {
   "cell_type": "markdown",
   "metadata": {},
   "source": [
    "Bunun için öncelikle aşağıdaki görseldeki yer aldığı şekli ile markdown bölümünde yer alacak şekilde girişte ya da istenilen herhangi bir yerde bir içindekiler bölümü oluşturulur. \n",
    "\n",
    "Mavi bölümler ([Veriye İlk Bakış]) içindekiler sayfasında gözükecek olan isimlendirmelerdir. Bu isimlendirmeler bölümler ile aynı olmalıdır.\n",
    "\n",
    "Kırmızı parantezler ((#ilk)) ile yazılan bölümler; bölümler ile içindekiler menüsünü birleştirmek / takip etmek için kullanılır. \n",
    "\n",
    "Kırmızı ile ifade edilen (#ilk) bölümler notebook içerisinde yer alan bölümlerin hemen üzerine ya da hemen altına yerleştirilerek takip sağlanır. \n"
   ]
  },
  {
   "cell_type": "markdown",
   "metadata": {},
   "source": [
    "<img src=\"img/index_2.png\" alt=\"drawing\" width=\"300\"/>"
   ]
  },
  {
   "cell_type": "markdown",
   "metadata": {},
   "source": [
    "## 2. Bölümlere Tag'lerin Yazılması"
   ]
  },
  {
   "cell_type": "markdown",
   "metadata": {},
   "source": [
    "Bölümlerin hemen üzerine ya da altına markdown içerisinde aşağıdaki şekilde tag'ler eklenir."
   ]
  },
  {
   "cell_type": "markdown",
   "metadata": {},
   "source": [
    "<img src=\"img/index_3.png\" alt=\"drawing\" width=\"300\"/>"
   ]
  },
  {
   "cell_type": "markdown",
   "metadata": {},
   "source": [
    "# Font-Boyut Gibi Ayarlamalar\n",
    "\n",
    "Görselde yer alan \"system defaults\" bölümünde değiştirilmek istenilen ayar \"user overrides\" bölümünde örneklendirildiği şekliyle yapıldığında değişiklik gerçekleşecektir. Değişikliğin yansıması için yeniden başlatmak gerekebilir."
   ]
  },
  {
   "cell_type": "markdown",
   "metadata": {},
   "source": [
    "<img src=\"img/setting.png\" alt=\"drawing\" width=\"700\"/>"
   ]
  },
  {
   "cell_type": "markdown",
   "metadata": {},
   "source": [
    "# Setting start-up directory (Başlangıç dizinin ayarlanması)"
   ]
  },
  {
   "cell_type": "markdown",
   "metadata": {},
   "source": [
    "1. Komut satırına: jupyter notebook\n",
    "\n",
    "Bu adres gelecek: http://localhost:8892/tree\n",
    "\n",
    "Bu adres değiştirilebilir, hem windows 10 hem mac için: https://stackoverflow.com/questions/35254852/how-to-change-the-jupyter-start-up-folder\n",
    "\n",
    "2. Mac için: İçinde çalışılmak istenilen dizine terminalden gidilir. (cd komutuyla)\n",
    "\n",
    "Bu dizin altında şu kod yazılır: jupyter notebook\n",
    "\n",
    "Alternatif: JupyterLab arayüzünden içinde çalışılmak istenilen klasöre gidilir ve orada yeni bir notebook açılır."
   ]
  },
  {
   "cell_type": "markdown",
   "metadata": {},
   "source": [
    "# Değişkenleri Görmek"
   ]
  },
  {
   "cell_type": "code",
   "execution_count": 6,
   "metadata": {},
   "outputs": [
    {
     "name": "stdout",
     "output_type": "stream",
     "text": [
      "Image\t K\t NamespaceMagics\t PATH\t get_ipython\t getsizeof\t json\t np\t pd\t \n",
      "plt\t pyspark\t sns\t tf\t \n"
     ]
    }
   ],
   "source": [
    "who"
   ]
  },
  {
   "cell_type": "markdown",
   "metadata": {},
   "source": [
    "# Decimal Ayarlaması"
   ]
  },
  {
   "cell_type": "code",
   "execution_count": 9,
   "metadata": {},
   "outputs": [
    {
     "data": {
      "text/plain": [
       "'11'"
      ]
     },
     "execution_count": 9,
     "metadata": {},
     "output_type": "execute_result"
    }
   ],
   "source": [
    "\"%.0f\" % 10.9999"
   ]
  },
  {
   "cell_type": "markdown",
   "metadata": {},
   "source": [
    "# e'lerden kurtulmak"
   ]
  },
  {
   "cell_type": "code",
   "execution_count": null,
   "metadata": {},
   "outputs": [],
   "source": [
    "import pandas as pd\n",
    "pd.set_option('display.float_format', lambda x: '%.3f' % x)"
   ]
  },
  {
   "cell_type": "markdown",
   "metadata": {},
   "source": [
    "# Kaliteli Çıktı"
   ]
  },
  {
   "cell_type": "code",
   "execution_count": null,
   "metadata": {},
   "outputs": [],
   "source": [
    "%config InlineBackend.figure_format = 'retina'"
   ]
  },
  {
   "cell_type": "markdown",
   "metadata": {},
   "source": [
    "# Hücre özelinde ayarlamalar yapmak\n",
    "\n",
    "It's common to start off with a code cell specifically for imports and setup, so that if you choose to add or change anything, you can simply edit and re-run the cell without causing any side-effects."
   ]
  },
  {
   "cell_type": "code",
   "execution_count": 4,
   "metadata": {},
   "outputs": [],
   "source": [
    "%matplotlib inline\n",
    "\n",
    "import pandas as pd\n",
    "import matplotlib.pyplot as plt\n",
    "import seaborn as sns\n",
    "\n",
    "sns.set(style=\"darkgrid\")"
   ]
  },
  {
   "cell_type": "markdown",
   "metadata": {},
   "source": [
    "# Resim Ekleme İşlemleri"
   ]
  },
  {
   "cell_type": "markdown",
   "metadata": {},
   "source": [
    "## Markdown Yardımıyla Dizinde Yer Alan Resmin Eklenmesi"
   ]
  },
  {
   "cell_type": "markdown",
   "metadata": {},
   "source": [
    "<img src=\"img/add2.png\" alt=\"drawing\" width=\"400\"/>"
   ]
  },
  {
   "cell_type": "markdown",
   "metadata": {},
   "source": [
    "![title](img/VBO.png)"
   ]
  },
  {
   "cell_type": "markdown",
   "metadata": {},
   "source": [
    "## Markdown ile URL'den Resim Eklemek "
   ]
  },
  {
   "cell_type": "markdown",
   "metadata": {},
   "source": [
    "<img src=\"img/add1.png\" alt=\"drawing\" width=\"700\"/>"
   ]
  },
  {
   "cell_type": "markdown",
   "metadata": {},
   "source": [
    "![Alt text](https://www.veribilimiokulu.com/wp-content/uploads/2019/02/veribilimiokulu_vbo.jpg)"
   ]
  },
  {
   "cell_type": "markdown",
   "metadata": {},
   "source": [
    "## Console Yardımıyla Dizinde Yer Alan Resmi Eklemek"
   ]
  },
  {
   "cell_type": "code",
   "execution_count": 21,
   "metadata": {},
   "outputs": [
    {
     "data": {
      "image/png": "[encoded data removed]",
      "text/plain": [
       "<IPython.core.display.Image object>"
      ]
     },
     "execution_count": 21,
     "metadata": {
      "image/png": {
       "height": 200,
       "width": 200
      }
     },
     "output_type": "execute_result"
    }
   ],
   "source": [
    "from IPython.display import Image\n",
    "\n",
    "PATH = \"\" \n",
    "\n",
    "Image(filename = PATH + \"VBO.png\", width=200, height=200)"
   ]
  },
  {
   "cell_type": "markdown",
   "metadata": {},
   "source": [
    "## Console Yardımıyla Dizinde Yer Alan Resmi HTML ile Eklemek"
   ]
  },
  {
   "cell_type": "code",
   "execution_count": 23,
   "metadata": {},
   "outputs": [
    {
     "data": {
      "text/html": [
       "<img src=\"img/VBO.png\", width=\"200\">\n"
      ],
      "text/plain": [
       "<IPython.core.display.HTML object>"
      ]
     },
     "metadata": {},
     "output_type": "display_data"
    }
   ],
   "source": [
    "%%html\n",
    "<img src=\"img/VBO.png\", width=\"200\">"
   ]
  },
  {
   "cell_type": "markdown",
   "metadata": {},
   "source": [
    "## Markdown Yardımıyla Dizinde Yer Alan Resmin HTML ile Eklenmesi"
   ]
  },
  {
   "cell_type": "markdown",
   "metadata": {},
   "source": [
    "<img src=\"img/add3.png\" alt=\"drawing\" width=\"500\"/>"
   ]
  },
  {
   "cell_type": "markdown",
   "metadata": {},
   "source": [
    "<img src=\"img/VBO.png\" alt=\"drawing\" width=\"200\"/>"
   ]
  },
  {
   "cell_type": "markdown",
   "metadata": {},
   "source": [
    "## Sola Hizalamak"
   ]
  },
  {
   "cell_type": "markdown",
   "metadata": {},
   "source": [
    "<img src=\"img/add4.png\" alt=\"drawing\" width=\"600\"/>"
   ]
  },
  {
   "cell_type": "markdown",
   "metadata": {},
   "source": [
    "<img align=\"left\" width=\"100\" height=\"100\" src=\"http://www.fillmurray.com/100/100\">"
   ]
  },
  {
   "cell_type": "markdown",
   "metadata": {},
   "source": [
    "## Sağa Hizalama"
   ]
  },
  {
   "cell_type": "markdown",
   "metadata": {},
   "source": [
    "<img src=\"img/add5.png\" alt=\"drawing\" width=\"700\"/>"
   ]
  },
  {
   "cell_type": "markdown",
   "metadata": {},
   "source": [
    "<img align=\"right\" width=\"100\" height=\"100\" src=\"http://www.fillmurray.com/100/100\">"
   ]
  },
  {
   "cell_type": "markdown",
   "metadata": {},
   "source": [
    "## Ortalama"
   ]
  },
  {
   "cell_type": "markdown",
   "metadata": {},
   "source": [
    "<img src=\"img/add6.png\" alt=\"drawing\" width=\"700\"/>"
   ]
  },
  {
   "cell_type": "markdown",
   "metadata": {},
   "source": [
    "<div align=\"center\">\n",
    "  <img width=\"460\" height=\"300\" src=\"http://www.fillmurray.com/460/300\">\n",
    "</div>"
   ]
  },
  {
   "cell_type": "markdown",
   "metadata": {},
   "source": [
    "## Resim Ekleme İşlemleri için Detaylar:"
   ]
  },
  {
   "cell_type": "markdown",
   "metadata": {},
   "source": [
    "https://github.github.com/gfm/#images"
   ]
  },
  {
   "cell_type": "markdown",
   "metadata": {},
   "source": [
    "# R Kernel in JupyterLab"
   ]
  },
  {
   "cell_type": "markdown",
   "metadata": {},
   "source": [
    "komut satırından şunu çalıştır:\n",
    "\n",
    "conda install -c anaconda jupyter_client\n",
    "conda install -c r r-irkernel\n",
    "\n",
    "R'i indir ve kur.\n",
    "R'in içerisnden şunları kur:\n",
    "install.packages(c('repr', 'IRdisplay', 'evaluate', 'crayon', 'pbdZMQ', 'devtools', 'uuid', 'digest'))\n",
    "\n",
    "devtools::install_github('IRkernel/IRkernel')\n",
    "        \n",
    "IRkernel::installspec() # install for the current user\n",
    "\n",
    "IRkernel::installspec(user = FALSE) # install system-wide\n",
    "\n",
    "Kaynak: https://richpauloo.github.io/2018-05-16-Installing-the-R-kernel-in-Jupyter-Lab/"
   ]
  },
  {
   "cell_type": "markdown",
   "metadata": {},
   "source": [
    "# Github Üzerinden Mini Web Sitesi"
   ]
  },
  {
   "cell_type": "markdown",
   "metadata": {},
   "source": [
    "https://deanattali.com/beautiful-jekyll/\n",
    "\n",
    "https://github.com/richpauloo/richpauloo.github.io\n",
    "\n",
    "https://github.com/richpauloo?tab=repositories"
   ]
  },
  {
   "cell_type": "markdown",
   "metadata": {},
   "source": [
    "# Docker ve JupyterLab'ı Birlikte Kullanmak"
   ]
  },
  {
   "cell_type": "markdown",
   "metadata": {
    "slideshow": {
     "slide_type": "-"
    }
   },
   "source": [
    "https://towardsdatascience.com/how-to-setup-your-jupyterlab-project-environment-74909dade29b"
   ]
  }
 ],
 "metadata": {
  "kernelspec": {
   "display_name": "Python 3",
   "language": "python",
   "name": "python3"
  },
  "language_info": {
   "codemirror_mode": {
    "name": "ipython",
    "version": 3
   },
   "file_extension": ".py",
   "mimetype": "text/x-python",
   "name": "python",
   "nbconvert_exporter": "python",
   "pygments_lexer": "ipython3",
   "version": "3.7.6"
  },
  "toc-autonumbering": true
 },
 "nbformat": 4,
 "nbformat_minor": 4
}
